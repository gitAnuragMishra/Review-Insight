{
 "cells": [
  {
   "cell_type": "code",
   "execution_count": 7,
   "metadata": {},
   "outputs": [],
   "source": [
    "from autoscraper import AutoScraper\n",
    "import requests\n",
    "from bs4 import BeautifulSoup"
   ]
  },
  {
   "cell_type": "code",
   "execution_count": 74,
   "metadata": {},
   "outputs": [
    {
     "name": "stdout",
     "output_type": "stream",
     "text": [
      "['What does the \"yield\" keyword do in Python?', 'Does Python have a ternary conditional operator?', 'What are metaclasses in Python?', 'How do I merge two dictionaries in a single expression in Python?', 'How slicing in Python works', 'Relative imports for the billionth time', 'What is the difference between @staticmethod and @classmethod in Python?', \"What does the 'b' character do in front of a string literal?\"]\n"
     ]
    }
   ],
   "source": [
    "from autoscraper import AutoScraper\n",
    "\n",
    "url = 'https://stackoverflow.com/questions/2081586/web-scraping-with-python'\n",
    "\n",
    "# We can add one or multiple candidates here.\n",
    "# You can also put urls here to retrieve urls.\n",
    "wanted_list = [\"What are metaclasses in Python?\"]\n",
    "\n",
    "scraper = AutoScraper()\n",
    "result = scraper.build(url, wanted_list)\n",
    "print(result)"
   ]
  },
  {
   "cell_type": "code",
   "execution_count": 9,
   "metadata": {},
   "outputs": [],
   "source": [
    "pg = 1\n",
    "productUrl = 'https://www.amazon.in/HP-15-6inch-Micro-Edge-Anti-Glare-15s-Eq2143au/dp/B09R1MMMTH/'\n",
    "reviewUrl = productUrl.replace('dp', 'product-reviews') + f'?pageNumber={pg}'\n",
    "headers = {'User-Agent': 'Mozilla/5.0 (Macintosh; Intel Mac OS X 10_10_1) AppleWebKit/537.36 (KHTML, like Gecko) Chrome/39.0.2171.95 Safari/537.36'}\n"
   ]
  },
  {
   "cell_type": "code",
   "execution_count": 76,
   "metadata": {},
   "outputs": [
    {
     "data": {
      "text/plain": [
       "'https://www.amazon.in/HP-15-6inch-Micro-Edge-Anti-Glare-15s-Eq2143au/product-reviews/B09R1MMMTH/?pageNumber=1'"
      ]
     },
     "execution_count": 76,
     "metadata": {},
     "output_type": "execute_result"
    }
   ],
   "source": [
    "reviewUrl"
   ]
  },
  {
   "cell_type": "code",
   "execution_count": 3,
   "metadata": {},
   "outputs": [],
   "source": [
    "import yaml\n",
    "with open('proxylist.yaml', 'r') as file:\n",
    "    config_proxy = yaml.safe_load(file)"
   ]
  },
  {
   "cell_type": "code",
   "execution_count": null,
   "metadata": {},
   "outputs": [],
   "source": [
    "config_proxy['proxies']"
   ]
  },
  {
   "cell_type": "code",
   "execution_count": 5,
   "metadata": {},
   "outputs": [],
   "source": [
    "import random\n",
    "proxy = {\"http\": random.choice(config_proxy['proxies']), \"https\": random.choice(config_proxy['proxies'])}"
   ]
  },
  {
   "cell_type": "code",
   "execution_count": 16,
   "metadata": {},
   "outputs": [],
   "source": [
    "resp = requests.get(reviewUrl, headers=headers)\n",
    "soup = BeautifulSoup(resp.text, 'html.parser')\n",
    "reviews = soup.findAll('div', {'data-hook': 'review-body'})"
   ]
  },
  {
   "cell_type": "code",
   "execution_count": 17,
   "metadata": {},
   "outputs": [
    {
     "data": {
      "text/plain": [
       "[]"
      ]
     },
     "execution_count": 17,
     "metadata": {},
     "output_type": "execute_result"
    }
   ],
   "source": [
    "reviews"
   ]
  },
  {
   "cell_type": "code",
   "execution_count": 7,
   "metadata": {},
   "outputs": [],
   "source": [
    "import requests\n",
    "\n",
    "url = 'https://www.amazon.in/Acer-Graphics-Win11Home-AL15G-52-39-62cm/dp/B0D32SLD7P/ref=pd_ci_mcx_pspc_dp_d_2_t_3?pd_rd_w=CgSIs&content-id=amzn1.sym.c951cdb5-f0e8-4efb-abcb-595e3ce751f9&pf_rd_p=c951cdb5-f0e8-4efb-abcb-595e3ce751f9&pf_rd_r=SSZ3FYR5NAR39A30AH9V&pd_rd_wg=s2blL&pd_rd_r=34ad27e7-b315-4b88-8c05-2e2ded6bd143&pd_rd_i=B0D32SLD7P'\n",
    "headers = {\n",
    "    'User-Agent': 'Mozilla/5.0 (Windows NT 10.0; Win64; x64) AppleWebKit/537.36 (KHTML, like Gecko) Chrome/91.0.4472.124 Safari/537.36',\n",
    "    'Accept-Language': 'en-US,en;q=0.9',\n",
    "}\n",
    "\n",
    "response = requests.get(url, headers=headers)\n",
    "\n",
    "with open('amazon_reviews.html', 'w', encoding='utf-8') as file:\n",
    "    file.write(response.text)"
   ]
  },
  {
   "cell_type": "code",
   "execution_count": 8,
   "metadata": {},
   "outputs": [],
   "source": [
    "from bs4 import BeautifulSoup\n",
    "\n",
    "# Load the HTML file\n",
    "with open('amazon_reviews.html', 'r', encoding='utf-8') as file:\n",
    "    soup = BeautifulSoup(file, 'html.parser')\n",
    "# with open(r'C:\\Users\\heyia\\Downloads\\Amazon.in_Customer reviews_ HP Laptop 15s, AMD Ryzen 3 5300U, 15.6-inch (39.6 cm), FHD, 8GB DDR4, 512GB SSD, AMD Radeon Graphics, Thin &amp; Light, Dual Speakers (Win 11, MSO 2019, Silver, 1.69 kg), eq2143AU.html', 'r', encoding='utf-8') as file:\n",
    "#     soup = BeautifulSoup(file, 'html.parser')\n",
    "\n",
    "# Extract all reviews\n",
    "reviews = soup.find_all('span', {'data-hook': 'review-body'})\n",
    "\n",
    "# Print the reviews\n",
    "for index, review in enumerate(reviews, 1):\n",
    "    review_text = review.get_text(strip=True)\n",
    "    print(f\"Review {index}: {review_text}\\n\")\n"
   ]
  }
 ],
 "metadata": {
  "kernelspec": {
   "display_name": "review-env",
   "language": "python",
   "name": "python3"
  },
  "language_info": {
   "codemirror_mode": {
    "name": "ipython",
    "version": 3
   },
   "file_extension": ".py",
   "mimetype": "text/x-python",
   "name": "python",
   "nbconvert_exporter": "python",
   "pygments_lexer": "ipython3",
   "version": "3.11.9"
  }
 },
 "nbformat": 4,
 "nbformat_minor": 2
}
